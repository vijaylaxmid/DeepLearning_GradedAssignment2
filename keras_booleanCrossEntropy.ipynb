{
  "nbformat": 4,
  "nbformat_minor": 0,
  "metadata": {
    "colab": {
      "name": "keras_booleanCrossEntropy.ipynb",
      "provenance": []
    },
    "kernelspec": {
      "name": "python3",
      "display_name": "Python 3"
    }
  },
  "cells": [
    {
      "cell_type": "markdown",
      "metadata": {
        "id": "duT9-V2X_1YT",
        "colab_type": "text"
      },
      "source": [
        "**Import the libraries**"
      ]
    },
    {
      "cell_type": "code",
      "metadata": {
        "id": "eqZswowC_1yO",
        "colab_type": "code",
        "colab": {}
      },
      "source": [
        "import pandas\n",
        "from keras.models import Sequential\n",
        "from keras.layers import Dense\n",
        "from keras.wrappers.scikit_learn import KerasClassifier\n",
        "from sklearn.model_selection import cross_val_score\n",
        "from sklearn.preprocessing import LabelEncoder\n",
        "from sklearn.model_selection import StratifiedKFold\n",
        "from sklearn.preprocessing import StandardScaler\n",
        "from sklearn.pipeline import Pipeline"
      ],
      "execution_count": 0,
      "outputs": []
    },
    {
      "cell_type": "markdown",
      "metadata": {
        "id": "XVSty_5D_5-p",
        "colab_type": "text"
      },
      "source": [
        "**Load dataset**"
      ]
    },
    {
      "cell_type": "code",
      "metadata": {
        "id": "d5AJ_m6bahU_",
        "colab_type": "code",
        "colab": {}
      },
      "source": [
        "dataframe = pandas.read_csv(\"sonar.csv\", header=None)\n",
        "dataset = dataframe.values\n",
        "# split into input (X) and output (Y) variables\n",
        "X = dataset[:,0:60].astype(float)\n",
        "Y = dataset[:,60]"
      ],
      "execution_count": 0,
      "outputs": []
    },
    {
      "cell_type": "markdown",
      "metadata": {
        "id": "qB2SZZMh_-UR",
        "colab_type": "text"
      },
      "source": [
        "**Encode class values as integers**"
      ]
    },
    {
      "cell_type": "code",
      "metadata": {
        "id": "n1asFXm3aox0",
        "colab_type": "code",
        "colab": {}
      },
      "source": [
        "encoder = LabelEncoder()\n",
        "encoder.fit(Y)\n",
        "encoded_Y = encoder.transform(Y)"
      ],
      "execution_count": 0,
      "outputs": []
    },
    {
      "cell_type": "code",
      "metadata": {
        "id": "I-YByqhFdQX0",
        "colab_type": "code",
        "colab": {}
      },
      "source": [
        "model = Sequential()\n",
        "model.add(Dense(8, activation='relu'))\n",
        "model.add(Dense(1, activation='sigmoid'))"
      ],
      "execution_count": 0,
      "outputs": []
    },
    {
      "cell_type": "markdown",
      "metadata": {
        "id": "6yeTooRcAD6_",
        "colab_type": "text"
      },
      "source": [
        "**Compile the Model**"
      ]
    },
    {
      "cell_type": "code",
      "metadata": {
        "id": "LfoxKOfNdRvH",
        "colab_type": "code",
        "outputId": "8c9d4f39-c618-44c4-ea3c-554dbe070d49",
        "colab": {
          "base_uri": "https://localhost:8080/",
          "height": 714
        }
      },
      "source": [
        "model.compile(loss='binary_crossentropy', optimizer='adam', metrics=['accuracy'])\n",
        "                   \n",
        "model.fit(X, encoded_Y,epochs=20, batch_size=1, verbose=1)"
      ],
      "execution_count": 0,
      "outputs": [
        {
          "output_type": "stream",
          "text": [
            "Epoch 1/20\n",
            "208/208 [==============================] - 0s 1ms/step - loss: 0.7363 - accuracy: 0.5000\n",
            "Epoch 2/20\n",
            "208/208 [==============================] - 0s 944us/step - loss: 0.6545 - accuracy: 0.6058\n",
            "Epoch 3/20\n",
            "208/208 [==============================] - 0s 965us/step - loss: 0.6181 - accuracy: 0.6442\n",
            "Epoch 4/20\n",
            "208/208 [==============================] - 0s 1ms/step - loss: 0.5904 - accuracy: 0.7019\n",
            "Epoch 5/20\n",
            "208/208 [==============================] - 0s 991us/step - loss: 0.5656 - accuracy: 0.7067\n",
            "Epoch 6/20\n",
            "208/208 [==============================] - 0s 984us/step - loss: 0.5473 - accuracy: 0.7212\n",
            "Epoch 7/20\n",
            "208/208 [==============================] - 0s 976us/step - loss: 0.5337 - accuracy: 0.7404\n",
            "Epoch 8/20\n",
            "208/208 [==============================] - 0s 1ms/step - loss: 0.5137 - accuracy: 0.7596\n",
            "Epoch 9/20\n",
            "208/208 [==============================] - 0s 1ms/step - loss: 0.4999 - accuracy: 0.7692\n",
            "Epoch 10/20\n",
            "208/208 [==============================] - 0s 1ms/step - loss: 0.4877 - accuracy: 0.7837\n",
            "Epoch 11/20\n",
            "208/208 [==============================] - 0s 999us/step - loss: 0.4769 - accuracy: 0.7981\n",
            "Epoch 12/20\n",
            "208/208 [==============================] - 0s 998us/step - loss: 0.4683 - accuracy: 0.7837\n",
            "Epoch 13/20\n",
            "208/208 [==============================] - 0s 986us/step - loss: 0.4549 - accuracy: 0.7837\n",
            "Epoch 14/20\n",
            "208/208 [==============================] - 0s 1ms/step - loss: 0.4411 - accuracy: 0.8077\n",
            "Epoch 15/20\n",
            "208/208 [==============================] - 0s 1ms/step - loss: 0.4335 - accuracy: 0.8125\n",
            "Epoch 16/20\n",
            "208/208 [==============================] - 0s 1ms/step - loss: 0.4301 - accuracy: 0.8125\n",
            "Epoch 17/20\n",
            "208/208 [==============================] - 0s 1ms/step - loss: 0.4159 - accuracy: 0.8269\n",
            "Epoch 18/20\n",
            "208/208 [==============================] - 0s 967us/step - loss: 0.4149 - accuracy: 0.8173\n",
            "Epoch 19/20\n",
            "208/208 [==============================] - 0s 1ms/step - loss: 0.4007 - accuracy: 0.8221\n",
            "Epoch 20/20\n",
            "208/208 [==============================] - 0s 1ms/step - loss: 0.3960 - accuracy: 0.8365\n"
          ],
          "name": "stdout"
        },
        {
          "output_type": "execute_result",
          "data": {
            "text/plain": [
              "<keras.callbacks.callbacks.History at 0x7f02b3474a90>"
            ]
          },
          "metadata": {
            "tags": []
          },
          "execution_count": 23
        }
      ]
    },
    {
      "cell_type": "code",
      "metadata": {
        "id": "T-11GNGMazit",
        "colab_type": "code",
        "outputId": "2bdc6a2e-0641-4a17-d57b-a92d32b9e39c",
        "colab": {
          "base_uri": "https://localhost:8080/",
          "height": 34
        }
      },
      "source": [
        "# evaluate model with standardized dataset\n",
        "estimator = KerasClassifier(build_fn=create_baseline, epochs=100, batch_size=5, verbose=0)\n",
        "kfold = StratifiedKFold(n_splits=10, shuffle=True)\n",
        "results = cross_val_score(estimator, X, encoded_Y, cv=kfold)\n",
        "print(\"Baseline: %.2f%% (%.2f%%)\" % (results.mean()*100, results.std()*100))"
      ],
      "execution_count": 0,
      "outputs": [
        {
          "output_type": "stream",
          "text": [
            "Baseline: 80.67% (11.12%)\n"
          ],
          "name": "stdout"
        }
      ]
    }
  ]
}